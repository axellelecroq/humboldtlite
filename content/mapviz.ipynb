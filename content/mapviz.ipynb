{
 "cells": [
  {
   "cell_type": "code",
   "execution_count": 6,
   "id": "d68e38bf",
   "metadata": {},
   "outputs": [],
   "source": [
    "#import piplite\n",
    "#await piplite.install('ipywidgets')\n",
    "#await piplite.install('pandas')\n",
    "#await piplite.install('matplotlib')\n",
    "#await piplite.install('geopy')\n",
    "#await piplite.install('pivottablejs')\n",
    "#await piplite.install('ipyleaflet')\n",
    "#await piplite.install('gender_guesser')\n",
    "\n",
    "from ipywidgets import HBox\n",
    "import numpy as np\n",
    "import pandas as pd\n",
    "import matplotlib.pyplot as plt\n",
    "#import gender_guesser.detector as gender\n",
    "from IPython.display import display\n",
    "\n",
    "from utils.widgets import *\n",
    "from utils.prepare_data import getJSON\n",
    "from utils.mapviz import *\n",
    "\n",
    "data = getJSON('data/records.json')"
   ]
  },
  {
   "cell_type": "code",
   "execution_count": 5,
   "id": "e9044657",
   "metadata": {},
   "outputs": [
    {
     "name": "stdout",
     "output_type": "stream",
     "text": [
      "Collecting gender_guesser\n",
      "  Using cached gender_guesser-0.4.0-py2.py3-none-any.whl (379 kB)\n",
      "Installing collected packages: gender_guesser\n",
      "Successfully installed gender_guesser-0.4.0\n"
     ]
    },
    {
     "name": "stderr",
     "output_type": "stream",
     "text": [
      "WARNING: You are using pip version 22.0.4; however, version 22.3 is available.\n",
      "You should consider upgrading via the 'C:\\Users\\alecroq\\AppData\\Local\\Programs\\Python\\Python39\\python.exe -m pip install --upgrade pip' command.\n"
     ]
    }
   ],
   "source": [
    "#!pip install matplotlib\n",
    "!pip install gender_guesser"
   ]
  },
  {
   "cell_type": "markdown",
   "id": "61fb41f4",
   "metadata": {},
   "source": [
    "## Librairies\n",
    "You may install these librairies to use this notebook, if you already didn't run the requirement of the githubs repository. To install them, remove the # before the lines."
   ]
  },
  {
   "cell_type": "code",
   "execution_count": null,
   "id": "ee5f2a2c",
   "metadata": {},
   "outputs": [],
   "source": [
    "#!pip install ipyleaflet\n",
    "#!pip install unidecode\n",
    "#!pip install gender_guesser\n",
    "#!pip install matplotlib"
   ]
  },
  {
   "cell_type": "code",
   "execution_count": null,
   "id": "14737500",
   "metadata": {},
   "outputs": [],
   "source": [
    "df = pd.json_normalize(data)\n",
    "pd.DataFrame(df)"
   ]
  },
  {
   "cell_type": "markdown",
   "id": "2f0a17d8",
   "metadata": {},
   "source": [
    "## Show all the letters on a map\n",
    "The first map shows all the letters sent and received by Alexander von Humboldt during his lifetime. The radius of the circle corresponds to the number of letters sent or received in that city. Each point therefore represents one or more letters. You can click directly on the dots to find out the exact number and to get more information about the letters."
   ]
  },
  {
   "cell_type": "code",
   "execution_count": 7,
   "id": "9a1c6f96",
   "metadata": {},
   "outputs": [
    {
     "data": {
      "application/vnd.jupyter.widget-view+json": {
       "model_id": "2ebd46a376d8437d8bf723e3e63aa31e",
       "version_major": 2,
       "version_minor": 0
      },
      "text/plain": [
       "Map(center=[0.0, 0.0], close_popup_on_click=False, controls=(ZoomControl(options=['position', 'zoom_in_text', …"
      ]
     },
     "metadata": {},
     "output_type": "display_data"
    }
   ],
   "source": [
    "allonmap(data, 'coverage_location')"
   ]
  },
  {
   "cell_type": "markdown",
   "id": "48708120",
   "metadata": {},
   "source": [
    "This map represents all the letters sent and received by Alexander von Humboldt throughout his life. Each letter is represented by a dot. Each period of Alexander von Humboldt's life is represented by a colour, randomly defined by the programme. The darker the dot, the more letters were sent or received in that city. To find out the name of the city, you can click directly on the point on the map.\n",
    "\n",
    "_This map may take some time to display._"
   ]
  },
  {
   "cell_type": "code",
   "execution_count": null,
   "id": "559fbed8",
   "metadata": {},
   "outputs": [],
   "source": [
    "mapByPeriod()"
   ]
  },
  {
   "cell_type": "markdown",
   "id": "3a18c2bb",
   "metadata": {},
   "source": [
    "## Map visualisation\n",
    "The result of the search appears if there is only one letter left in the results or if there are no additional elements that would allow to deepen the search. \n",
    "To start a new search, please click on the \"New search\" button.\n",
    "\n",
    "#### What data is used in the search?\n",
    "The letters from Kalliope, the BnF and APS catalogues.\n",
    "The data from the BBAW's research aid is not represented here because the place of delivery of the letters has not yet been digitally recorded. \n",
    "\n",
    "#### How is the result presented?\n",
    "The result is represented on a world map. The points shown are the places where the letters were sent or received. As no difference has been made in the encoding of the letters in Kalliope, it is not possible to distinguish which place is the sending and receiving place. \n",
    "For some letters, no location is known and are therefore not shown on this map. \n",
    "Each point on the map is clickable and shows the information of the corresponding letter or letters. Thus, the city is mentioned as well as the exact date when known, the sender and the addressee, together with the place where the letter is currently kept. The link to the catalogue is also available.\n",
    "Please note that only the information of 3 letters can be presented on the pop up. Thus, if more than three letters were sent to this location in the selected year, only the number of letters sent is mentioned but the individual information of each letter is not presented. \n",
    "To make sure that you have access to all the letters in the database for a selected date, please do a search in the jupyter notebook `search.ipynb` instead.\n",
    "\n",
    "### Visualisation by date"
   ]
  },
  {
   "cell_type": "code",
   "execution_count": null,
   "id": "85e96925",
   "metadata": {},
   "outputs": [],
   "source": [
    "map_by_date()"
   ]
  },
  {
   "cell_type": "markdown",
   "id": "8ac45d83",
   "metadata": {},
   "source": [
    "## Visualisation by name\n",
    "### Show the letter exchange between Alexander von Humboldt and someone else on a map"
   ]
  },
  {
   "cell_type": "code",
   "execution_count": null,
   "id": "380165db",
   "metadata": {},
   "outputs": [],
   "source": [
    "map_by_person()"
   ]
  },
  {
   "cell_type": "markdown",
   "id": "7ae1ff10",
   "metadata": {},
   "source": [
    "## Letters exchanged through time between a correspondence partner and AvH\n",
    "The result of the search appears on a histogramm. It is possible that nothing is shown on the histogramm for some correspondence partner. That means that for all the letters sent between this person and AvH, no dates are known or have been recorded by the online catalogues. This also means that only letters with a known date are represented on the histogram.\n",
    "\n",
    "To start a new search, please click on the \"New search\" button."
   ]
  },
  {
   "cell_type": "code",
   "execution_count": null,
   "id": "a0d3ca6a",
   "metadata": {},
   "outputs": [],
   "source": [
    "histogramm_by_person(all=True)"
   ]
  },
  {
   "cell_type": "markdown",
   "id": "43cabe06",
   "metadata": {},
   "source": [
    "## Age distribution of correspondence partners of AvH\n",
    "There is a hypothesis that the older Alexander von Humboldt got, the more he corresponded with younger researchers. With these graphs we have sought, not to answer this question entirely, but to find out the age distribution of AvH's correspondents over time. Of course, these graphs are biased by the data themselves: the data from the letters we use is only a sample of what is preserved today. What is preserved today is also only a tiny part of all the correspondence of AvH who did not keep all the letters he received when he was travelling for example. "
   ]
  },
  {
   "cell_type": "code",
   "execution_count": null,
   "id": "69471904",
   "metadata": {},
   "outputs": [],
   "source": [
    "age_distribution()"
   ]
  },
  {
   "cell_type": "markdown",
   "id": "4fcbdb9d",
   "metadata": {},
   "source": [
    "## Women in AvH's correspondence\n",
    "\n",
    "#### Some figures and facts\n",
    "- Humboldt received 8 letters from women and sent 61 letters to women.\n",
    "- Many are duchess, countess or even queen. \n",
    "- 2.3% of Humboldt's correspondence was sent to women. \n",
    "- 0.7% is the proportion of letters to AvH written by women.\n",
    "- If we consider these figure, Humboldt wrote more letters to women than he received from them. But is it the historical truth ?\n",
    "- All letters together correspond to 1.8% of AvH correspondence.\n",
    "\n",
    "Like the previous graphs, this section on Humboldt's female correspondence is biased by current data and sources. The data from the letters we use is only a sample of what is preserved today. What is preserved today is also only a tiny part of all the correspondence of AvH who did not keep all the letters he received when he was travelling for example.\n",
    "\n",
    "#### How is the result presented?\n",
    "Two visualisations are proposed: \n",
    "1. The world map with the points where the corresponding letters are kept. \n",
    "2. The histogram of the exchanges between AvH and the selected person. It is possible that the histogram does not show any data, this means that no sending date is known for the corresponding letters. \n"
   ]
  },
  {
   "cell_type": "code",
   "execution_count": null,
   "id": "db65cf92",
   "metadata": {},
   "outputs": [],
   "source": [
    "histogramm_by_person(all=False)"
   ]
  }
 ],
 "metadata": {
  "kernelspec": {
   "display_name": "Python 3.9.12 64-bit",
   "language": "python",
   "name": "python3"
  },
  "language_info": {
   "codemirror_mode": {
    "name": "ipython",
    "version": 3
   },
   "file_extension": ".py",
   "mimetype": "text/x-python",
   "name": "python",
   "nbconvert_exporter": "python",
   "pygments_lexer": "ipython3",
   "version": "3.9.12"
  },
  "vscode": {
   "interpreter": {
    "hash": "41c58de7ac7579c6367e24c48b5a0d6a80a77025c7561f5ec68f016abbdb1294"
   }
  }
 },
 "nbformat": 4,
 "nbformat_minor": 5
}
